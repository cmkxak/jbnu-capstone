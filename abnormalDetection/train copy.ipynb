{
 "cells": [
  {
   "cell_type": "code",
   "execution_count": 1,
   "metadata": {},
   "outputs": [],
   "source": [
    "import numpy as np\n",
    "import os\n",
    "\n",
    "os.environ['CUDA_VISIBLE_DEVICES'] = '1'\n",
    "os.environ['TF_FORCE_GPU_ALLOW_GROWTH'] = 'true'"
   ]
  },
  {
   "cell_type": "code",
   "execution_count": 2,
   "metadata": {},
   "outputs": [
    {
     "name": "stdout",
     "output_type": "stream",
     "text": [
      "seq_abnormal_1650122232.npy\n",
      "seq_abnormal_1650122258.npy\n",
      "seq_abnormal_1650122293.npy\n",
      "seq_abnormal_1650122316.npy\n",
      "seq_abnormal_1650122347.npy\n",
      "seq_abnormal_1650122365.npy\n",
      "seq_abnormal_1650122384.npy\n",
      "seq_abnormal_1650122402.npy\n",
      "seq_abnormal_1650122419.npy\n",
      "seq_abnormal_1650122442.npy\n",
      "seq_abnormal_1650122458.npy\n",
      "seq_abnormal_1650122480.npy\n",
      "seq_abnormal_1650122498.npy\n",
      "seq_abnormal_1650122502.npy\n",
      "seq_abnormal_1650122509.npy\n",
      "seq_abnormal_1650122517.npy\n",
      "seq_abnormal_1650122541.npy\n",
      "seq_abnormal_1650122556.npy\n",
      "seq_abnormal_1650122575.npy\n",
      "seq_abnormal_1650122596.npy\n",
      "seq_abnormal_1650122622.npy\n",
      "seq_abnormal_1650122630.npy\n",
      "seq_abnormal_1650122657.npy\n",
      "seq_abnormal_1650122674.npy\n",
      "seq_abnormal_1650122693.npy\n",
      "seq_abnormal_1650122697.npy\n",
      "seq_abnormal_1650122715.npy\n",
      "seq_abnormal_1650122730.npy\n",
      "seq_abnormal_1650122739.npy\n",
      "seq_abnormal_1650122752.npy\n",
      "seq_abnormal_1650122761.npy\n",
      "seq_abnormal_1650122775.npy\n",
      "seq_abnormal_1650122792.npy\n",
      "seq_abnormal_1650122801.npy\n",
      "seq_abnormal_1650122809.npy\n",
      "seq_abnormal_1650122912.npy\n",
      "seq_abnormal_1650122918.npy\n",
      "seq_abnormal_1650122925.npy\n",
      "seq_abnormal_1650122927.npy\n",
      "seq_abnormal_1650122930.npy\n",
      "seq_abnormal_1650122932.npy\n",
      "seq_abnormal_1650122935.npy\n",
      "seq_abnormal_1650122939.npy\n",
      "seq_abnormal_1650122948.npy\n",
      "seq_abnormal_1650122954.npy\n",
      "seq_abnormal_1650122959.npy\n",
      "seq_abnormal_1650122961.npy\n",
      "seq_abnormal_1650122965.npy\n",
      "seq_abnormal_1650122968.npy\n",
      "seq_abnormal_1650122973.npy\n",
      "seq_abnormal_1650122976.npy\n",
      "seq_abnormal_1650122980.npy\n",
      "seq_abnormal_1650122984.npy\n",
      "seq_abnormal_1650122989.npy\n",
      "seq_abnormal_1650122997.npy\n",
      "seq_abnormal_1650123014.npy\n",
      "seq_abnormal_1650123020.npy\n",
      "seq_abnormal_1650123027.npy\n",
      "seq_abnormal_1650123044.npy\n",
      "seq_abnormal_1650123051.npy\n",
      "seq_abnormal_1650123058.npy\n",
      "seq_abnormal_1650123063.npy\n",
      "seq_abnormal_1650123067.npy\n",
      "seq_abnormal_1650123072.npy\n",
      "seq_abnormal_1650123082.npy\n",
      "seq_abnormal_1650123087.npy\n",
      "seq_abnormal_1650123093.npy\n",
      "seq_abnormal_1650123096.npy\n",
      "seq_abnormal_1650123100.npy\n",
      "seq_abnormal_1650123105.npy\n",
      "seq_abnormal_1650123111.npy\n",
      "seq_abnormal_1650123115.npy\n",
      "seq_abnormal_1650123120.npy\n",
      "seq_abnormal_1650123124.npy\n",
      "seq_abnormal_1650123128.npy\n",
      "seq_abnormal_1650123132.npy\n",
      "seq_abnormal_1650123138.npy\n",
      "seq_abnormal_1650123143.npy\n",
      "seq_abnormal_1650123148.npy\n",
      "seq_abnormal_1650123153.npy\n",
      "seq_abnormal_1650123157.npy\n",
      "seq_abnormal_1650123164.npy\n",
      "seq_abnormal_1650123168.npy\n",
      "seq_abnormal_1650123175.npy\n",
      "seq_abnormal_1650123181.npy\n",
      "seq_abnormal_1650123185.npy\n",
      "seq_normal_1650122232.npy\n",
      "seq_normal_1650122258.npy\n",
      "seq_normal_1650122293.npy\n",
      "seq_normal_1650122316.npy\n",
      "seq_normal_1650122347.npy\n",
      "seq_normal_1650122365.npy\n",
      "seq_normal_1650122384.npy\n",
      "seq_normal_1650122402.npy\n",
      "seq_normal_1650122419.npy\n",
      "seq_normal_1650122442.npy\n",
      "seq_normal_1650122458.npy\n",
      "seq_normal_1650122480.npy\n",
      "seq_normal_1650122498.npy\n",
      "seq_normal_1650122502.npy\n",
      "seq_normal_1650122509.npy\n",
      "seq_normal_1650122517.npy\n",
      "seq_normal_1650122541.npy\n",
      "seq_normal_1650122556.npy\n",
      "seq_normal_1650122575.npy\n",
      "seq_normal_1650122596.npy\n",
      "seq_normal_1650122622.npy\n",
      "seq_normal_1650122630.npy\n",
      "seq_normal_1650122657.npy\n",
      "seq_normal_1650122674.npy\n",
      "seq_normal_1650122693.npy\n",
      "seq_normal_1650122697.npy\n",
      "seq_normal_1650122715.npy\n",
      "seq_normal_1650122730.npy\n",
      "seq_normal_1650122739.npy\n",
      "seq_normal_1650122752.npy\n",
      "seq_normal_1650122761.npy\n",
      "seq_normal_1650122775.npy\n",
      "seq_normal_1650122792.npy\n",
      "seq_normal_1650122801.npy\n",
      "seq_normal_1650122809.npy\n",
      "seq_normal_1650122912.npy\n",
      "seq_normal_1650122918.npy\n",
      "seq_normal_1650122925.npy\n",
      "seq_normal_1650122927.npy\n",
      "seq_normal_1650122930.npy\n",
      "seq_normal_1650122932.npy\n",
      "seq_normal_1650122935.npy\n",
      "seq_normal_1650122939.npy\n",
      "seq_normal_1650122948.npy\n",
      "seq_normal_1650122954.npy\n",
      "seq_normal_1650122959.npy\n",
      "seq_normal_1650122961.npy\n",
      "seq_normal_1650122965.npy\n",
      "seq_normal_1650122968.npy\n",
      "seq_normal_1650122973.npy\n",
      "seq_normal_1650122976.npy\n",
      "seq_normal_1650122980.npy\n",
      "seq_normal_1650122984.npy\n",
      "seq_normal_1650122989.npy\n",
      "seq_normal_1650122997.npy\n",
      "seq_normal_1650123014.npy\n",
      "seq_normal_1650123020.npy\n",
      "seq_normal_1650123027.npy\n",
      "seq_normal_1650123044.npy\n",
      "seq_normal_1650123051.npy\n",
      "seq_normal_1650123058.npy\n",
      "seq_normal_1650123063.npy\n",
      "seq_normal_1650123067.npy\n",
      "seq_normal_1650123072.npy\n",
      "seq_normal_1650123082.npy\n",
      "seq_normal_1650123087.npy\n",
      "seq_normal_1650123093.npy\n",
      "seq_normal_1650123096.npy\n",
      "seq_normal_1650123100.npy\n",
      "seq_normal_1650123105.npy\n",
      "seq_normal_1650123111.npy\n",
      "seq_normal_1650123115.npy\n",
      "seq_normal_1650123120.npy\n",
      "seq_normal_1650123124.npy\n",
      "seq_normal_1650123128.npy\n",
      "seq_normal_1650123132.npy\n",
      "seq_normal_1650123138.npy\n",
      "seq_normal_1650123143.npy\n",
      "seq_normal_1650123148.npy\n",
      "seq_normal_1650123153.npy\n",
      "seq_normal_1650123157.npy\n",
      "seq_normal_1650123164.npy\n",
      "seq_normal_1650123168.npy\n",
      "seq_normal_1650123175.npy\n",
      "seq_normal_1650123181.npy\n",
      "seq_normal_1650123185.npy\n"
     ]
    },
    {
     "data": {
      "text/plain": [
       "(17198, 30, 162)"
      ]
     },
     "execution_count": 2,
     "metadata": {},
     "output_type": "execute_result"
    }
   ],
   "source": [
    "actions = [\n",
    "    'normal',\n",
    "    'abnormal'\n",
    "]\n",
    "#여기에 numpy파일을 여러개 load하면 여러개의 동작데이터를 삽입할 수 있음.\n",
    "\n",
    "import os\n",
    "\n",
    "filePath = \"dataset\"\n",
    "data = []\n",
    "idx = 0\n",
    "for (root, directories, files) in os.walk(filePath):\n",
    "    for file in files:\n",
    "        if file.startswith(\"raw\"):# exclude raw dataset\n",
    "            continue\n",
    "        print(file)\n",
    "        file_path = os.path.join(root, file)\n",
    "        if np.load(file_path).shape[0] == 0:# exclude unavailable array\n",
    "            continue\n",
    "        if idx == 0:\n",
    "            data = np.concatenate([\n",
    "                np.load(file_path)\n",
    "            ], axis=0)\n",
    "        data = np.concatenate([\n",
    "            np.array(data),\n",
    "            np.load(file_path)\n",
    "        ], axis=0)\n",
    "        idx += 1\n",
    "\n",
    "data.shape"
   ]
  },
  {
   "cell_type": "code",
   "execution_count": 3,
   "metadata": {},
   "outputs": [
    {
     "name": "stdout",
     "output_type": "stream",
     "text": [
      "(17198, 30, 161)\n",
      "(17198,)\n"
     ]
    }
   ],
   "source": [
    "x_data = data[:, :, :-1] # 정답레이블 제거\n",
    "labels = data[:, 0, -1] # 정답레이블 추출\n",
    "\n",
    "print(x_data.shape)\n",
    "print(labels.shape)"
   ]
  },
  {
   "cell_type": "code",
   "execution_count": 4,
   "metadata": {},
   "outputs": [
    {
     "name": "stdout",
     "output_type": "stream",
     "text": [
      "(17198, 30, 132)\n"
     ]
    }
   ],
   "source": [
    "x_data = data[:, :, :-30]\n",
    "print(x_data.shape)"
   ]
  },
  {
   "cell_type": "code",
   "execution_count": 5,
   "metadata": {},
   "outputs": [
    {
     "data": {
      "text/plain": [
       "(17198, 2)"
      ]
     },
     "execution_count": 5,
     "metadata": {},
     "output_type": "execute_result"
    }
   ],
   "source": [
    "from tensorflow.keras.utils import to_categorical\n",
    "\n",
    "y_data = to_categorical(labels, num_classes=len(actions)) # 원핫인코딩 (1,0,0), (0,1,0), (0,0,1)\n",
    "y_data.shape"
   ]
  },
  {
   "cell_type": "code",
   "execution_count": 6,
   "metadata": {},
   "outputs": [
    {
     "name": "stdout",
     "output_type": "stream",
     "text": [
      "(15478, 30, 132) (15478, 2)\n",
      "(1720, 30, 132) (1720, 2)\n"
     ]
    }
   ],
   "source": [
    "from sklearn.model_selection import train_test_split\n",
    "\n",
    "x_data = x_data.astype(np.float32)\n",
    "y_data = y_data.astype(np.float32)\n",
    "\n",
    "x_train, x_val, y_train, y_val = train_test_split(x_data, y_data, test_size=0.1, random_state=2022) # 학습데이터와 검증데이터 분리\n",
    "\n",
    "print(x_train.shape, y_train.shape) # 학습데이터 및 정답레이블\n",
    "print(x_val.shape, y_val.shape) #검증데이터 및 정답레이블"
   ]
  },
  {
   "cell_type": "code",
   "execution_count": 7,
   "metadata": {},
   "outputs": [
    {
     "name": "stdout",
     "output_type": "stream",
     "text": [
      "Model: \"sequential\"\n",
      "_________________________________________________________________\n",
      " Layer (type)                Output Shape              Param #   \n",
      "=================================================================\n",
      " gru (GRU)                   (None, 30, 64)            38016     \n",
      "                                                                 \n",
      " dropout (Dropout)           (None, 30, 64)            0         \n",
      "                                                                 \n",
      " gru_1 (GRU)                 (None, 64)                24960     \n",
      "                                                                 \n",
      " dropout_1 (Dropout)         (None, 64)                0         \n",
      "                                                                 \n",
      " dense (Dense)               (None, 32)                2080      \n",
      "                                                                 \n",
      " dense_1 (Dense)             (None, 2)                 66        \n",
      "                                                                 \n",
      "=================================================================\n",
      "Total params: 65,122\n",
      "Trainable params: 65,122\n",
      "Non-trainable params: 0\n",
      "_________________________________________________________________\n"
     ]
    }
   ],
   "source": [
    "from tensorflow.keras.models import Sequential\n",
    "from tensorflow.keras.layers import GRU, Dense, Dropout\n",
    "\n",
    "model = Sequential([\n",
    "    GRU(units=64, activation='relu', input_shape=x_train.shape[1:3], return_sequences=True),\n",
    "    Dropout(0.2),\n",
    "    GRU(units=64, activation='relu'),\n",
    "    Dropout(0.3),\n",
    "    Dense(32, activation='relu'),\n",
    "    Dense(len(actions), activation='softmax')\n",
    "])\n",
    "\n",
    "model.compile(optimizer='adam', loss='categorical_crossentropy', metrics=['acc'])\n",
    "model.summary()"
   ]
  },
  {
   "cell_type": "code",
   "execution_count": 9,
   "metadata": {
    "scrolled": true
   },
   "outputs": [
    {
     "name": "stdout",
     "output_type": "stream",
     "text": [
      "Epoch 1/200\n",
      "60/61 [============================>.] - ETA: 0s - loss: 0.3814 - acc: 0.8414\n",
      "Epoch 1: val_acc improved from -inf to 0.93081, saving model to models\\modelV3.2_GRU_lying.h5\n",
      "61/61 [==============================] - 5s 65ms/step - loss: 0.3806 - acc: 0.8420 - val_loss: 0.2235 - val_acc: 0.9308 - lr: 0.0010\n",
      "Epoch 2/200\n",
      "60/61 [============================>.] - ETA: 0s - loss: 0.2190 - acc: 0.9241\n",
      "Epoch 2: val_acc improved from 0.93081 to 0.96628, saving model to models\\modelV3.2_GRU_lying.h5\n",
      "61/61 [==============================] - 4s 63ms/step - loss: 0.2191 - acc: 0.9240 - val_loss: 0.1132 - val_acc: 0.9663 - lr: 0.0010\n",
      "Epoch 3/200\n",
      "60/61 [============================>.] - ETA: 0s - loss: 0.1367 - acc: 0.9481\n",
      "Epoch 3: val_acc did not improve from 0.96628\n",
      "61/61 [==============================] - 4s 63ms/step - loss: 0.1369 - acc: 0.9481 - val_loss: 0.1321 - val_acc: 0.9523 - lr: 0.0010\n",
      "Epoch 4/200\n",
      "60/61 [============================>.] - ETA: 0s - loss: 0.0776 - acc: 0.9739\n",
      "Epoch 4: val_acc improved from 0.96628 to 0.97151, saving model to models\\modelV3.2_GRU_lying.h5\n",
      "61/61 [==============================] - 4s 62ms/step - loss: 0.0774 - acc: 0.9740 - val_loss: 0.0804 - val_acc: 0.9715 - lr: 0.0010\n",
      "Epoch 5/200\n",
      "60/61 [============================>.] - ETA: 0s - loss: 0.0576 - acc: 0.9801\n",
      "Epoch 5: val_acc improved from 0.97151 to 0.99244, saving model to models\\modelV3.2_GRU_lying.h5\n",
      "61/61 [==============================] - 4s 63ms/step - loss: 0.0573 - acc: 0.9802 - val_loss: 0.0224 - val_acc: 0.9924 - lr: 0.0010\n",
      "Epoch 6/200\n",
      "60/61 [============================>.] - ETA: 0s - loss: 0.0445 - acc: 0.9859\n",
      "Epoch 6: val_acc improved from 0.99244 to 0.99477, saving model to models\\modelV3.2_GRU_lying.h5\n",
      "61/61 [==============================] - 4s 63ms/step - loss: 0.0442 - acc: 0.9860 - val_loss: 0.0182 - val_acc: 0.9948 - lr: 0.0010\n",
      "Epoch 7/200\n",
      "60/61 [============================>.] - ETA: 0s - loss: 0.0336 - acc: 0.9890\n",
      "Epoch 7: val_acc did not improve from 0.99477\n",
      "61/61 [==============================] - 4s 62ms/step - loss: 0.0335 - acc: 0.9890 - val_loss: 0.0316 - val_acc: 0.9907 - lr: 0.0010\n",
      "Epoch 8/200\n",
      "60/61 [============================>.] - ETA: 0s - loss: 0.0321 - acc: 0.9898\n",
      "Epoch 8: val_acc improved from 0.99477 to 0.99651, saving model to models\\modelV3.2_GRU_lying.h5\n",
      "61/61 [==============================] - 4s 63ms/step - loss: 0.0319 - acc: 0.9899 - val_loss: 0.0125 - val_acc: 0.9965 - lr: 0.0010\n",
      "Epoch 9/200\n",
      "60/61 [============================>.] - ETA: 0s - loss: 0.0199 - acc: 0.9940\n",
      "Epoch 9: val_acc did not improve from 0.99651\n",
      "61/61 [==============================] - 4s 63ms/step - loss: 0.0201 - acc: 0.9939 - val_loss: 0.0119 - val_acc: 0.9948 - lr: 0.0010\n",
      "Epoch 10/200\n",
      "60/61 [============================>.] - ETA: 0s - loss: 0.0252 - acc: 0.9910\n",
      "Epoch 10: val_acc improved from 0.99651 to 0.99826, saving model to models\\modelV3.2_GRU_lying.h5\n",
      "61/61 [==============================] - 4s 63ms/step - loss: 0.0251 - acc: 0.9910 - val_loss: 0.0079 - val_acc: 0.9983 - lr: 0.0010\n",
      "Epoch 11/200\n",
      "60/61 [============================>.] - ETA: 0s - loss: 0.0347 - acc: 0.9891\n",
      "Epoch 11: val_acc did not improve from 0.99826\n",
      "61/61 [==============================] - 4s 63ms/step - loss: 0.0347 - acc: 0.9891 - val_loss: 0.0513 - val_acc: 0.9855 - lr: 0.0010\n",
      "Epoch 12/200\n",
      "60/61 [============================>.] - ETA: 0s - loss: 0.0211 - acc: 0.9927\n",
      "Epoch 12: val_acc did not improve from 0.99826\n",
      "61/61 [==============================] - 4s 61ms/step - loss: 0.0211 - acc: 0.9927 - val_loss: 0.0129 - val_acc: 0.9953 - lr: 0.0010\n",
      "Epoch 13/200\n",
      "60/61 [============================>.] - ETA: 0s - loss: 0.0161 - acc: 0.9943\n",
      "Epoch 13: val_acc did not improve from 0.99826\n",
      "61/61 [==============================] - 4s 61ms/step - loss: 0.0161 - acc: 0.9942 - val_loss: 0.0123 - val_acc: 0.9948 - lr: 0.0010\n",
      "Epoch 14/200\n",
      "60/61 [============================>.] - ETA: 0s - loss: 0.0614 - acc: 0.9813\n",
      "Epoch 14: val_acc did not improve from 0.99826\n",
      "61/61 [==============================] - 4s 61ms/step - loss: 0.0610 - acc: 0.9815 - val_loss: 0.0196 - val_acc: 0.9936 - lr: 0.0010\n",
      "Epoch 15/200\n",
      "60/61 [============================>.] - ETA: 0s - loss: 0.0078 - acc: 0.9975\n",
      "Epoch 15: val_acc improved from 0.99826 to 0.99942, saving model to models\\modelV3.2_GRU_lying.h5\n",
      "61/61 [==============================] - 4s 61ms/step - loss: 0.0078 - acc: 0.9975 - val_loss: 0.0024 - val_acc: 0.9994 - lr: 0.0010\n",
      "Epoch 16/200\n",
      "60/61 [============================>.] - ETA: 0s - loss: 0.0064 - acc: 0.9984\n",
      "Epoch 16: val_acc did not improve from 0.99942\n",
      "61/61 [==============================] - 4s 61ms/step - loss: 0.0064 - acc: 0.9984 - val_loss: 0.0049 - val_acc: 0.9977 - lr: 0.0010\n",
      "Epoch 17/200\n",
      "60/61 [============================>.] - ETA: 0s - loss: 0.0040 - acc: 0.9992\n",
      "Epoch 17: val_acc did not improve from 0.99942\n",
      "61/61 [==============================] - 4s 62ms/step - loss: 0.0040 - acc: 0.9992 - val_loss: 0.0015 - val_acc: 0.9988 - lr: 0.0010\n",
      "Epoch 18/200\n",
      "60/61 [============================>.] - ETA: 0s - loss: 0.0021 - acc: 0.9995\n",
      "Epoch 18: val_acc did not improve from 0.99942\n",
      "61/61 [==============================] - 4s 61ms/step - loss: 0.0021 - acc: 0.9995 - val_loss: 0.0016 - val_acc: 0.9988 - lr: 0.0010\n",
      "Epoch 19/200\n",
      "60/61 [============================>.] - ETA: 0s - loss: 0.0093 - acc: 0.9979\n",
      "Epoch 19: val_acc improved from 0.99942 to 1.00000, saving model to models\\modelV3.2_GRU_lying.h5\n",
      "61/61 [==============================] - 4s 61ms/step - loss: 0.0093 - acc: 0.9979 - val_loss: 9.0966e-04 - val_acc: 1.0000 - lr: 0.0010\n",
      "Epoch 20/200\n",
      "60/61 [============================>.] - ETA: 0s - loss: 0.0012 - acc: 0.9999\n",
      "Epoch 20: val_acc did not improve from 1.00000\n",
      "61/61 [==============================] - 4s 60ms/step - loss: 0.0012 - acc: 0.9999 - val_loss: 1.1924e-04 - val_acc: 1.0000 - lr: 0.0010\n",
      "Epoch 21/200\n",
      "60/61 [============================>.] - ETA: 0s - loss: 0.0014 - acc: 0.9997\n",
      "Epoch 21: val_acc did not improve from 1.00000\n",
      "61/61 [==============================] - 4s 60ms/step - loss: 0.0014 - acc: 0.9997 - val_loss: 1.2207e-04 - val_acc: 1.0000 - lr: 0.0010\n",
      "Epoch 22/200\n",
      "60/61 [============================>.] - ETA: 0s - loss: 0.0027 - acc: 0.9993\n",
      "Epoch 22: val_acc did not improve from 1.00000\n",
      "61/61 [==============================] - 4s 60ms/step - loss: 0.0027 - acc: 0.9994 - val_loss: 1.2477e-04 - val_acc: 1.0000 - lr: 0.0010\n",
      "Epoch 23/200\n",
      "60/61 [============================>.] - ETA: 0s - loss: 9.3424e-04 - acc: 0.9998\n",
      "Epoch 23: val_acc did not improve from 1.00000\n",
      "61/61 [==============================] - 3s 54ms/step - loss: 9.3152e-04 - acc: 0.9998 - val_loss: 0.0028 - val_acc: 0.9988 - lr: 0.0010\n",
      "Epoch 24/200\n",
      "60/61 [============================>.] - ETA: 0s - loss: 0.0696 - acc: 0.9786\n",
      "Epoch 24: val_acc did not improve from 1.00000\n",
      "61/61 [==============================] - 3s 53ms/step - loss: 0.0691 - acc: 0.9787 - val_loss: 0.0080 - val_acc: 0.9983 - lr: 0.0010\n",
      "Epoch 25/200\n",
      "61/61 [==============================] - ETA: 0s - loss: 0.0101 - acc: 0.9965\n",
      "Epoch 25: val_acc did not improve from 1.00000\n",
      "61/61 [==============================] - 3s 54ms/step - loss: 0.0101 - acc: 0.9965 - val_loss: 0.0036 - val_acc: 0.9988 - lr: 0.0010\n",
      "Epoch 26/200\n",
      "60/61 [============================>.] - ETA: 0s - loss: 0.0060 - acc: 0.9980\n",
      "Epoch 26: val_acc did not improve from 1.00000\n",
      "61/61 [==============================] - 3s 53ms/step - loss: 0.0060 - acc: 0.9981 - val_loss: 2.0200e-04 - val_acc: 1.0000 - lr: 0.0010\n",
      "Epoch 27/200\n",
      "60/61 [============================>.] - ETA: 0s - loss: 7.8688e-04 - acc: 0.9999\n",
      "Epoch 27: val_acc did not improve from 1.00000\n",
      "61/61 [==============================] - 3s 53ms/step - loss: 7.8437e-04 - acc: 0.9999 - val_loss: 1.1764e-04 - val_acc: 1.0000 - lr: 0.0010\n",
      "Epoch 28/200\n",
      "61/61 [==============================] - ETA: 0s - loss: 7.4041e-04 - acc: 0.9999\n",
      "Epoch 28: val_acc did not improve from 1.00000\n",
      "61/61 [==============================] - 3s 53ms/step - loss: 7.4041e-04 - acc: 0.9999 - val_loss: 1.4967e-04 - val_acc: 1.0000 - lr: 0.0010\n",
      "Epoch 29/200\n",
      "61/61 [==============================] - ETA: 0s - loss: 4.6406e-04 - acc: 0.9999\n",
      "Epoch 29: val_acc did not improve from 1.00000\n",
      "61/61 [==============================] - 3s 52ms/step - loss: 4.6406e-04 - acc: 0.9999 - val_loss: 3.7879e-05 - val_acc: 1.0000 - lr: 0.0010\n",
      "Epoch 30/200\n",
      "60/61 [============================>.] - ETA: 0s - loss: 6.0798e-04 - acc: 0.9999\n",
      "Epoch 30: val_acc did not improve from 1.00000\n",
      "61/61 [==============================] - 3s 52ms/step - loss: 6.0672e-04 - acc: 0.9999 - val_loss: 2.8327e-05 - val_acc: 1.0000 - lr: 0.0010\n",
      "Epoch 31/200\n",
      "60/61 [============================>.] - ETA: 0s - loss: 6.2875e-04 - acc: 0.9999\n",
      "Epoch 31: val_acc did not improve from 1.00000\n",
      "61/61 [==============================] - 3s 52ms/step - loss: 6.2597e-04 - acc: 0.9999 - val_loss: 7.2167e-05 - val_acc: 1.0000 - lr: 0.0010\n",
      "Epoch 32/200\n",
      "25/61 [===========>..................] - ETA: 1s - loss: 1.7974e-04 - acc: 1.0000"
     ]
    },
    {
     "ename": "KeyboardInterrupt",
     "evalue": "",
     "output_type": "error",
     "traceback": [
      "\u001b[1;31m---------------------------------------------------------------------------\u001b[0m",
      "\u001b[1;31mKeyboardInterrupt\u001b[0m                         Traceback (most recent call last)",
      "\u001b[1;32mc:\\Users\\sang9\\deepLearning\\pose\\gesture-recognition\\abnormalDetection\\train copy.ipynb Cell 8'\u001b[0m in \u001b[0;36m<cell line: 3>\u001b[1;34m()\u001b[0m\n\u001b[0;32m      <a href='vscode-notebook-cell:/c%3A/Users/sang9/deepLearning/pose/gesture-recognition/abnormalDetection/train%20copy.ipynb#ch0000007?line=0'>1</a>\u001b[0m \u001b[39mfrom\u001b[39;00m \u001b[39mtensorflow\u001b[39;00m\u001b[39m.\u001b[39;00m\u001b[39mkeras\u001b[39;00m\u001b[39m.\u001b[39;00m\u001b[39mcallbacks\u001b[39;00m \u001b[39mimport\u001b[39;00m ModelCheckpoint, ReduceLROnPlateau\n\u001b[1;32m----> <a href='vscode-notebook-cell:/c%3A/Users/sang9/deepLearning/pose/gesture-recognition/abnormalDetection/train%20copy.ipynb#ch0000007?line=2'>3</a>\u001b[0m history \u001b[39m=\u001b[39m model\u001b[39m.\u001b[39;49mfit(\n\u001b[0;32m      <a href='vscode-notebook-cell:/c%3A/Users/sang9/deepLearning/pose/gesture-recognition/abnormalDetection/train%20copy.ipynb#ch0000007?line=3'>4</a>\u001b[0m     x_train,\n\u001b[0;32m      <a href='vscode-notebook-cell:/c%3A/Users/sang9/deepLearning/pose/gesture-recognition/abnormalDetection/train%20copy.ipynb#ch0000007?line=4'>5</a>\u001b[0m     y_train,\n\u001b[0;32m      <a href='vscode-notebook-cell:/c%3A/Users/sang9/deepLearning/pose/gesture-recognition/abnormalDetection/train%20copy.ipynb#ch0000007?line=5'>6</a>\u001b[0m     validation_data\u001b[39m=\u001b[39;49m(x_val, y_val),\n\u001b[0;32m      <a href='vscode-notebook-cell:/c%3A/Users/sang9/deepLearning/pose/gesture-recognition/abnormalDetection/train%20copy.ipynb#ch0000007?line=6'>7</a>\u001b[0m     batch_size \u001b[39m=\u001b[39;49m \u001b[39m256\u001b[39;49m,\n\u001b[0;32m      <a href='vscode-notebook-cell:/c%3A/Users/sang9/deepLearning/pose/gesture-recognition/abnormalDetection/train%20copy.ipynb#ch0000007?line=7'>8</a>\u001b[0m     epochs\u001b[39m=\u001b[39;49m\u001b[39m200\u001b[39;49m,\n\u001b[0;32m      <a href='vscode-notebook-cell:/c%3A/Users/sang9/deepLearning/pose/gesture-recognition/abnormalDetection/train%20copy.ipynb#ch0000007?line=8'>9</a>\u001b[0m     callbacks\u001b[39m=\u001b[39;49m[\n\u001b[0;32m     <a href='vscode-notebook-cell:/c%3A/Users/sang9/deepLearning/pose/gesture-recognition/abnormalDetection/train%20copy.ipynb#ch0000007?line=9'>10</a>\u001b[0m         ModelCheckpoint(\u001b[39m'\u001b[39;49m\u001b[39mmodels/modelV3.2_GRU_lying.h5\u001b[39;49m\u001b[39m'\u001b[39;49m, monitor\u001b[39m=\u001b[39;49m\u001b[39m'\u001b[39;49m\u001b[39mval_acc\u001b[39;49m\u001b[39m'\u001b[39;49m, verbose\u001b[39m=\u001b[39;49m\u001b[39m1\u001b[39;49m, save_best_only\u001b[39m=\u001b[39;49m\u001b[39mTrue\u001b[39;49;00m, mode\u001b[39m=\u001b[39;49m\u001b[39m'\u001b[39;49m\u001b[39mauto\u001b[39;49m\u001b[39m'\u001b[39;49m),\n\u001b[0;32m     <a href='vscode-notebook-cell:/c%3A/Users/sang9/deepLearning/pose/gesture-recognition/abnormalDetection/train%20copy.ipynb#ch0000007?line=10'>11</a>\u001b[0m         ReduceLROnPlateau(monitor\u001b[39m=\u001b[39;49m\u001b[39m'\u001b[39;49m\u001b[39mval_acc\u001b[39;49m\u001b[39m'\u001b[39;49m, factor\u001b[39m=\u001b[39;49m\u001b[39m0.5\u001b[39;49m, patience\u001b[39m=\u001b[39;49m\u001b[39m50\u001b[39;49m, verbose\u001b[39m=\u001b[39;49m\u001b[39m1\u001b[39;49m, mode\u001b[39m=\u001b[39;49m\u001b[39m'\u001b[39;49m\u001b[39mauto\u001b[39;49m\u001b[39m'\u001b[39;49m)\n\u001b[0;32m     <a href='vscode-notebook-cell:/c%3A/Users/sang9/deepLearning/pose/gesture-recognition/abnormalDetection/train%20copy.ipynb#ch0000007?line=11'>12</a>\u001b[0m     ]\n\u001b[0;32m     <a href='vscode-notebook-cell:/c%3A/Users/sang9/deepLearning/pose/gesture-recognition/abnormalDetection/train%20copy.ipynb#ch0000007?line=12'>13</a>\u001b[0m )\n",
      "File \u001b[1;32m~\\AppData\\Local\\Programs\\Python\\Python38\\lib\\site-packages\\keras\\utils\\traceback_utils.py:64\u001b[0m, in \u001b[0;36mfilter_traceback.<locals>.error_handler\u001b[1;34m(*args, **kwargs)\u001b[0m\n\u001b[0;32m     <a href='file:///c%3A/Users/sang9/AppData/Local/Programs/Python/Python38/lib/site-packages/keras/utils/traceback_utils.py?line=61'>62</a>\u001b[0m filtered_tb \u001b[39m=\u001b[39m \u001b[39mNone\u001b[39;00m\n\u001b[0;32m     <a href='file:///c%3A/Users/sang9/AppData/Local/Programs/Python/Python38/lib/site-packages/keras/utils/traceback_utils.py?line=62'>63</a>\u001b[0m \u001b[39mtry\u001b[39;00m:\n\u001b[1;32m---> <a href='file:///c%3A/Users/sang9/AppData/Local/Programs/Python/Python38/lib/site-packages/keras/utils/traceback_utils.py?line=63'>64</a>\u001b[0m   \u001b[39mreturn\u001b[39;00m fn(\u001b[39m*\u001b[39;49margs, \u001b[39m*\u001b[39;49m\u001b[39m*\u001b[39;49mkwargs)\n\u001b[0;32m     <a href='file:///c%3A/Users/sang9/AppData/Local/Programs/Python/Python38/lib/site-packages/keras/utils/traceback_utils.py?line=64'>65</a>\u001b[0m \u001b[39mexcept\u001b[39;00m \u001b[39mException\u001b[39;00m \u001b[39mas\u001b[39;00m e:  \u001b[39m# pylint: disable=broad-except\u001b[39;00m\n\u001b[0;32m     <a href='file:///c%3A/Users/sang9/AppData/Local/Programs/Python/Python38/lib/site-packages/keras/utils/traceback_utils.py?line=65'>66</a>\u001b[0m   filtered_tb \u001b[39m=\u001b[39m _process_traceback_frames(e\u001b[39m.\u001b[39m__traceback__)\n",
      "File \u001b[1;32m~\\AppData\\Local\\Programs\\Python\\Python38\\lib\\site-packages\\keras\\engine\\training.py:1384\u001b[0m, in \u001b[0;36mModel.fit\u001b[1;34m(self, x, y, batch_size, epochs, verbose, callbacks, validation_split, validation_data, shuffle, class_weight, sample_weight, initial_epoch, steps_per_epoch, validation_steps, validation_batch_size, validation_freq, max_queue_size, workers, use_multiprocessing)\u001b[0m\n\u001b[0;32m   <a href='file:///c%3A/Users/sang9/AppData/Local/Programs/Python/Python38/lib/site-packages/keras/engine/training.py?line=1376'>1377</a>\u001b[0m \u001b[39mwith\u001b[39;00m tf\u001b[39m.\u001b[39mprofiler\u001b[39m.\u001b[39mexperimental\u001b[39m.\u001b[39mTrace(\n\u001b[0;32m   <a href='file:///c%3A/Users/sang9/AppData/Local/Programs/Python/Python38/lib/site-packages/keras/engine/training.py?line=1377'>1378</a>\u001b[0m     \u001b[39m'\u001b[39m\u001b[39mtrain\u001b[39m\u001b[39m'\u001b[39m,\n\u001b[0;32m   <a href='file:///c%3A/Users/sang9/AppData/Local/Programs/Python/Python38/lib/site-packages/keras/engine/training.py?line=1378'>1379</a>\u001b[0m     epoch_num\u001b[39m=\u001b[39mepoch,\n\u001b[0;32m   <a href='file:///c%3A/Users/sang9/AppData/Local/Programs/Python/Python38/lib/site-packages/keras/engine/training.py?line=1379'>1380</a>\u001b[0m     step_num\u001b[39m=\u001b[39mstep,\n\u001b[0;32m   <a href='file:///c%3A/Users/sang9/AppData/Local/Programs/Python/Python38/lib/site-packages/keras/engine/training.py?line=1380'>1381</a>\u001b[0m     batch_size\u001b[39m=\u001b[39mbatch_size,\n\u001b[0;32m   <a href='file:///c%3A/Users/sang9/AppData/Local/Programs/Python/Python38/lib/site-packages/keras/engine/training.py?line=1381'>1382</a>\u001b[0m     _r\u001b[39m=\u001b[39m\u001b[39m1\u001b[39m):\n\u001b[0;32m   <a href='file:///c%3A/Users/sang9/AppData/Local/Programs/Python/Python38/lib/site-packages/keras/engine/training.py?line=1382'>1383</a>\u001b[0m   callbacks\u001b[39m.\u001b[39mon_train_batch_begin(step)\n\u001b[1;32m-> <a href='file:///c%3A/Users/sang9/AppData/Local/Programs/Python/Python38/lib/site-packages/keras/engine/training.py?line=1383'>1384</a>\u001b[0m   tmp_logs \u001b[39m=\u001b[39m \u001b[39mself\u001b[39;49m\u001b[39m.\u001b[39;49mtrain_function(iterator)\n\u001b[0;32m   <a href='file:///c%3A/Users/sang9/AppData/Local/Programs/Python/Python38/lib/site-packages/keras/engine/training.py?line=1384'>1385</a>\u001b[0m   \u001b[39mif\u001b[39;00m data_handler\u001b[39m.\u001b[39mshould_sync:\n\u001b[0;32m   <a href='file:///c%3A/Users/sang9/AppData/Local/Programs/Python/Python38/lib/site-packages/keras/engine/training.py?line=1385'>1386</a>\u001b[0m     context\u001b[39m.\u001b[39masync_wait()\n",
      "File \u001b[1;32m~\\AppData\\Local\\Programs\\Python\\Python38\\lib\\site-packages\\tensorflow\\python\\util\\traceback_utils.py:150\u001b[0m, in \u001b[0;36mfilter_traceback.<locals>.error_handler\u001b[1;34m(*args, **kwargs)\u001b[0m\n\u001b[0;32m    <a href='file:///c%3A/Users/sang9/AppData/Local/Programs/Python/Python38/lib/site-packages/tensorflow/python/util/traceback_utils.py?line=147'>148</a>\u001b[0m filtered_tb \u001b[39m=\u001b[39m \u001b[39mNone\u001b[39;00m\n\u001b[0;32m    <a href='file:///c%3A/Users/sang9/AppData/Local/Programs/Python/Python38/lib/site-packages/tensorflow/python/util/traceback_utils.py?line=148'>149</a>\u001b[0m \u001b[39mtry\u001b[39;00m:\n\u001b[1;32m--> <a href='file:///c%3A/Users/sang9/AppData/Local/Programs/Python/Python38/lib/site-packages/tensorflow/python/util/traceback_utils.py?line=149'>150</a>\u001b[0m   \u001b[39mreturn\u001b[39;00m fn(\u001b[39m*\u001b[39;49margs, \u001b[39m*\u001b[39;49m\u001b[39m*\u001b[39;49mkwargs)\n\u001b[0;32m    <a href='file:///c%3A/Users/sang9/AppData/Local/Programs/Python/Python38/lib/site-packages/tensorflow/python/util/traceback_utils.py?line=150'>151</a>\u001b[0m \u001b[39mexcept\u001b[39;00m \u001b[39mException\u001b[39;00m \u001b[39mas\u001b[39;00m e:\n\u001b[0;32m    <a href='file:///c%3A/Users/sang9/AppData/Local/Programs/Python/Python38/lib/site-packages/tensorflow/python/util/traceback_utils.py?line=151'>152</a>\u001b[0m   filtered_tb \u001b[39m=\u001b[39m _process_traceback_frames(e\u001b[39m.\u001b[39m__traceback__)\n",
      "File \u001b[1;32m~\\AppData\\Local\\Programs\\Python\\Python38\\lib\\site-packages\\tensorflow\\python\\eager\\def_function.py:915\u001b[0m, in \u001b[0;36mFunction.__call__\u001b[1;34m(self, *args, **kwds)\u001b[0m\n\u001b[0;32m    <a href='file:///c%3A/Users/sang9/AppData/Local/Programs/Python/Python38/lib/site-packages/tensorflow/python/eager/def_function.py?line=911'>912</a>\u001b[0m compiler \u001b[39m=\u001b[39m \u001b[39m\"\u001b[39m\u001b[39mxla\u001b[39m\u001b[39m\"\u001b[39m \u001b[39mif\u001b[39;00m \u001b[39mself\u001b[39m\u001b[39m.\u001b[39m_jit_compile \u001b[39melse\u001b[39;00m \u001b[39m\"\u001b[39m\u001b[39mnonXla\u001b[39m\u001b[39m\"\u001b[39m\n\u001b[0;32m    <a href='file:///c%3A/Users/sang9/AppData/Local/Programs/Python/Python38/lib/site-packages/tensorflow/python/eager/def_function.py?line=913'>914</a>\u001b[0m \u001b[39mwith\u001b[39;00m OptionalXlaContext(\u001b[39mself\u001b[39m\u001b[39m.\u001b[39m_jit_compile):\n\u001b[1;32m--> <a href='file:///c%3A/Users/sang9/AppData/Local/Programs/Python/Python38/lib/site-packages/tensorflow/python/eager/def_function.py?line=914'>915</a>\u001b[0m   result \u001b[39m=\u001b[39m \u001b[39mself\u001b[39;49m\u001b[39m.\u001b[39;49m_call(\u001b[39m*\u001b[39;49margs, \u001b[39m*\u001b[39;49m\u001b[39m*\u001b[39;49mkwds)\n\u001b[0;32m    <a href='file:///c%3A/Users/sang9/AppData/Local/Programs/Python/Python38/lib/site-packages/tensorflow/python/eager/def_function.py?line=916'>917</a>\u001b[0m new_tracing_count \u001b[39m=\u001b[39m \u001b[39mself\u001b[39m\u001b[39m.\u001b[39mexperimental_get_tracing_count()\n\u001b[0;32m    <a href='file:///c%3A/Users/sang9/AppData/Local/Programs/Python/Python38/lib/site-packages/tensorflow/python/eager/def_function.py?line=917'>918</a>\u001b[0m without_tracing \u001b[39m=\u001b[39m (tracing_count \u001b[39m==\u001b[39m new_tracing_count)\n",
      "File \u001b[1;32m~\\AppData\\Local\\Programs\\Python\\Python38\\lib\\site-packages\\tensorflow\\python\\eager\\def_function.py:947\u001b[0m, in \u001b[0;36mFunction._call\u001b[1;34m(self, *args, **kwds)\u001b[0m\n\u001b[0;32m    <a href='file:///c%3A/Users/sang9/AppData/Local/Programs/Python/Python38/lib/site-packages/tensorflow/python/eager/def_function.py?line=943'>944</a>\u001b[0m   \u001b[39mself\u001b[39m\u001b[39m.\u001b[39m_lock\u001b[39m.\u001b[39mrelease()\n\u001b[0;32m    <a href='file:///c%3A/Users/sang9/AppData/Local/Programs/Python/Python38/lib/site-packages/tensorflow/python/eager/def_function.py?line=944'>945</a>\u001b[0m   \u001b[39m# In this case we have created variables on the first call, so we run the\u001b[39;00m\n\u001b[0;32m    <a href='file:///c%3A/Users/sang9/AppData/Local/Programs/Python/Python38/lib/site-packages/tensorflow/python/eager/def_function.py?line=945'>946</a>\u001b[0m   \u001b[39m# defunned version which is guaranteed to never create variables.\u001b[39;00m\n\u001b[1;32m--> <a href='file:///c%3A/Users/sang9/AppData/Local/Programs/Python/Python38/lib/site-packages/tensorflow/python/eager/def_function.py?line=946'>947</a>\u001b[0m   \u001b[39mreturn\u001b[39;00m \u001b[39mself\u001b[39;49m\u001b[39m.\u001b[39;49m_stateless_fn(\u001b[39m*\u001b[39;49margs, \u001b[39m*\u001b[39;49m\u001b[39m*\u001b[39;49mkwds)  \u001b[39m# pylint: disable=not-callable\u001b[39;00m\n\u001b[0;32m    <a href='file:///c%3A/Users/sang9/AppData/Local/Programs/Python/Python38/lib/site-packages/tensorflow/python/eager/def_function.py?line=947'>948</a>\u001b[0m \u001b[39melif\u001b[39;00m \u001b[39mself\u001b[39m\u001b[39m.\u001b[39m_stateful_fn \u001b[39mis\u001b[39;00m \u001b[39mnot\u001b[39;00m \u001b[39mNone\u001b[39;00m:\n\u001b[0;32m    <a href='file:///c%3A/Users/sang9/AppData/Local/Programs/Python/Python38/lib/site-packages/tensorflow/python/eager/def_function.py?line=948'>949</a>\u001b[0m   \u001b[39m# Release the lock early so that multiple threads can perform the call\u001b[39;00m\n\u001b[0;32m    <a href='file:///c%3A/Users/sang9/AppData/Local/Programs/Python/Python38/lib/site-packages/tensorflow/python/eager/def_function.py?line=949'>950</a>\u001b[0m   \u001b[39m# in parallel.\u001b[39;00m\n\u001b[0;32m    <a href='file:///c%3A/Users/sang9/AppData/Local/Programs/Python/Python38/lib/site-packages/tensorflow/python/eager/def_function.py?line=950'>951</a>\u001b[0m   \u001b[39mself\u001b[39m\u001b[39m.\u001b[39m_lock\u001b[39m.\u001b[39mrelease()\n",
      "File \u001b[1;32m~\\AppData\\Local\\Programs\\Python\\Python38\\lib\\site-packages\\tensorflow\\python\\eager\\function.py:2956\u001b[0m, in \u001b[0;36mFunction.__call__\u001b[1;34m(self, *args, **kwargs)\u001b[0m\n\u001b[0;32m   <a href='file:///c%3A/Users/sang9/AppData/Local/Programs/Python/Python38/lib/site-packages/tensorflow/python/eager/function.py?line=2952'>2953</a>\u001b[0m \u001b[39mwith\u001b[39;00m \u001b[39mself\u001b[39m\u001b[39m.\u001b[39m_lock:\n\u001b[0;32m   <a href='file:///c%3A/Users/sang9/AppData/Local/Programs/Python/Python38/lib/site-packages/tensorflow/python/eager/function.py?line=2953'>2954</a>\u001b[0m   (graph_function,\n\u001b[0;32m   <a href='file:///c%3A/Users/sang9/AppData/Local/Programs/Python/Python38/lib/site-packages/tensorflow/python/eager/function.py?line=2954'>2955</a>\u001b[0m    filtered_flat_args) \u001b[39m=\u001b[39m \u001b[39mself\u001b[39m\u001b[39m.\u001b[39m_maybe_define_function(args, kwargs)\n\u001b[1;32m-> <a href='file:///c%3A/Users/sang9/AppData/Local/Programs/Python/Python38/lib/site-packages/tensorflow/python/eager/function.py?line=2955'>2956</a>\u001b[0m \u001b[39mreturn\u001b[39;00m graph_function\u001b[39m.\u001b[39;49m_call_flat(\n\u001b[0;32m   <a href='file:///c%3A/Users/sang9/AppData/Local/Programs/Python/Python38/lib/site-packages/tensorflow/python/eager/function.py?line=2956'>2957</a>\u001b[0m     filtered_flat_args, captured_inputs\u001b[39m=\u001b[39;49mgraph_function\u001b[39m.\u001b[39;49mcaptured_inputs)\n",
      "File \u001b[1;32m~\\AppData\\Local\\Programs\\Python\\Python38\\lib\\site-packages\\tensorflow\\python\\eager\\function.py:1853\u001b[0m, in \u001b[0;36mConcreteFunction._call_flat\u001b[1;34m(self, args, captured_inputs, cancellation_manager)\u001b[0m\n\u001b[0;32m   <a href='file:///c%3A/Users/sang9/AppData/Local/Programs/Python/Python38/lib/site-packages/tensorflow/python/eager/function.py?line=1848'>1849</a>\u001b[0m possible_gradient_type \u001b[39m=\u001b[39m gradients_util\u001b[39m.\u001b[39mPossibleTapeGradientTypes(args)\n\u001b[0;32m   <a href='file:///c%3A/Users/sang9/AppData/Local/Programs/Python/Python38/lib/site-packages/tensorflow/python/eager/function.py?line=1849'>1850</a>\u001b[0m \u001b[39mif\u001b[39;00m (possible_gradient_type \u001b[39m==\u001b[39m gradients_util\u001b[39m.\u001b[39mPOSSIBLE_GRADIENT_TYPES_NONE\n\u001b[0;32m   <a href='file:///c%3A/Users/sang9/AppData/Local/Programs/Python/Python38/lib/site-packages/tensorflow/python/eager/function.py?line=1850'>1851</a>\u001b[0m     \u001b[39mand\u001b[39;00m executing_eagerly):\n\u001b[0;32m   <a href='file:///c%3A/Users/sang9/AppData/Local/Programs/Python/Python38/lib/site-packages/tensorflow/python/eager/function.py?line=1851'>1852</a>\u001b[0m   \u001b[39m# No tape is watching; skip to running the function.\u001b[39;00m\n\u001b[1;32m-> <a href='file:///c%3A/Users/sang9/AppData/Local/Programs/Python/Python38/lib/site-packages/tensorflow/python/eager/function.py?line=1852'>1853</a>\u001b[0m   \u001b[39mreturn\u001b[39;00m \u001b[39mself\u001b[39m\u001b[39m.\u001b[39m_build_call_outputs(\u001b[39mself\u001b[39;49m\u001b[39m.\u001b[39;49m_inference_function\u001b[39m.\u001b[39;49mcall(\n\u001b[0;32m   <a href='file:///c%3A/Users/sang9/AppData/Local/Programs/Python/Python38/lib/site-packages/tensorflow/python/eager/function.py?line=1853'>1854</a>\u001b[0m       ctx, args, cancellation_manager\u001b[39m=\u001b[39;49mcancellation_manager))\n\u001b[0;32m   <a href='file:///c%3A/Users/sang9/AppData/Local/Programs/Python/Python38/lib/site-packages/tensorflow/python/eager/function.py?line=1854'>1855</a>\u001b[0m forward_backward \u001b[39m=\u001b[39m \u001b[39mself\u001b[39m\u001b[39m.\u001b[39m_select_forward_and_backward_functions(\n\u001b[0;32m   <a href='file:///c%3A/Users/sang9/AppData/Local/Programs/Python/Python38/lib/site-packages/tensorflow/python/eager/function.py?line=1855'>1856</a>\u001b[0m     args,\n\u001b[0;32m   <a href='file:///c%3A/Users/sang9/AppData/Local/Programs/Python/Python38/lib/site-packages/tensorflow/python/eager/function.py?line=1856'>1857</a>\u001b[0m     possible_gradient_type,\n\u001b[0;32m   <a href='file:///c%3A/Users/sang9/AppData/Local/Programs/Python/Python38/lib/site-packages/tensorflow/python/eager/function.py?line=1857'>1858</a>\u001b[0m     executing_eagerly)\n\u001b[0;32m   <a href='file:///c%3A/Users/sang9/AppData/Local/Programs/Python/Python38/lib/site-packages/tensorflow/python/eager/function.py?line=1858'>1859</a>\u001b[0m forward_function, args_with_tangents \u001b[39m=\u001b[39m forward_backward\u001b[39m.\u001b[39mforward()\n",
      "File \u001b[1;32m~\\AppData\\Local\\Programs\\Python\\Python38\\lib\\site-packages\\tensorflow\\python\\eager\\function.py:499\u001b[0m, in \u001b[0;36m_EagerDefinedFunction.call\u001b[1;34m(self, ctx, args, cancellation_manager)\u001b[0m\n\u001b[0;32m    <a href='file:///c%3A/Users/sang9/AppData/Local/Programs/Python/Python38/lib/site-packages/tensorflow/python/eager/function.py?line=496'>497</a>\u001b[0m \u001b[39mwith\u001b[39;00m _InterpolateFunctionError(\u001b[39mself\u001b[39m):\n\u001b[0;32m    <a href='file:///c%3A/Users/sang9/AppData/Local/Programs/Python/Python38/lib/site-packages/tensorflow/python/eager/function.py?line=497'>498</a>\u001b[0m   \u001b[39mif\u001b[39;00m cancellation_manager \u001b[39mis\u001b[39;00m \u001b[39mNone\u001b[39;00m:\n\u001b[1;32m--> <a href='file:///c%3A/Users/sang9/AppData/Local/Programs/Python/Python38/lib/site-packages/tensorflow/python/eager/function.py?line=498'>499</a>\u001b[0m     outputs \u001b[39m=\u001b[39m execute\u001b[39m.\u001b[39;49mexecute(\n\u001b[0;32m    <a href='file:///c%3A/Users/sang9/AppData/Local/Programs/Python/Python38/lib/site-packages/tensorflow/python/eager/function.py?line=499'>500</a>\u001b[0m         \u001b[39mstr\u001b[39;49m(\u001b[39mself\u001b[39;49m\u001b[39m.\u001b[39;49msignature\u001b[39m.\u001b[39;49mname),\n\u001b[0;32m    <a href='file:///c%3A/Users/sang9/AppData/Local/Programs/Python/Python38/lib/site-packages/tensorflow/python/eager/function.py?line=500'>501</a>\u001b[0m         num_outputs\u001b[39m=\u001b[39;49m\u001b[39mself\u001b[39;49m\u001b[39m.\u001b[39;49m_num_outputs,\n\u001b[0;32m    <a href='file:///c%3A/Users/sang9/AppData/Local/Programs/Python/Python38/lib/site-packages/tensorflow/python/eager/function.py?line=501'>502</a>\u001b[0m         inputs\u001b[39m=\u001b[39;49margs,\n\u001b[0;32m    <a href='file:///c%3A/Users/sang9/AppData/Local/Programs/Python/Python38/lib/site-packages/tensorflow/python/eager/function.py?line=502'>503</a>\u001b[0m         attrs\u001b[39m=\u001b[39;49mattrs,\n\u001b[0;32m    <a href='file:///c%3A/Users/sang9/AppData/Local/Programs/Python/Python38/lib/site-packages/tensorflow/python/eager/function.py?line=503'>504</a>\u001b[0m         ctx\u001b[39m=\u001b[39;49mctx)\n\u001b[0;32m    <a href='file:///c%3A/Users/sang9/AppData/Local/Programs/Python/Python38/lib/site-packages/tensorflow/python/eager/function.py?line=504'>505</a>\u001b[0m   \u001b[39melse\u001b[39;00m:\n\u001b[0;32m    <a href='file:///c%3A/Users/sang9/AppData/Local/Programs/Python/Python38/lib/site-packages/tensorflow/python/eager/function.py?line=505'>506</a>\u001b[0m     outputs \u001b[39m=\u001b[39m execute\u001b[39m.\u001b[39mexecute_with_cancellation(\n\u001b[0;32m    <a href='file:///c%3A/Users/sang9/AppData/Local/Programs/Python/Python38/lib/site-packages/tensorflow/python/eager/function.py?line=506'>507</a>\u001b[0m         \u001b[39mstr\u001b[39m(\u001b[39mself\u001b[39m\u001b[39m.\u001b[39msignature\u001b[39m.\u001b[39mname),\n\u001b[0;32m    <a href='file:///c%3A/Users/sang9/AppData/Local/Programs/Python/Python38/lib/site-packages/tensorflow/python/eager/function.py?line=507'>508</a>\u001b[0m         num_outputs\u001b[39m=\u001b[39m\u001b[39mself\u001b[39m\u001b[39m.\u001b[39m_num_outputs,\n\u001b[1;32m   (...)\u001b[0m\n\u001b[0;32m    <a href='file:///c%3A/Users/sang9/AppData/Local/Programs/Python/Python38/lib/site-packages/tensorflow/python/eager/function.py?line=510'>511</a>\u001b[0m         ctx\u001b[39m=\u001b[39mctx,\n\u001b[0;32m    <a href='file:///c%3A/Users/sang9/AppData/Local/Programs/Python/Python38/lib/site-packages/tensorflow/python/eager/function.py?line=511'>512</a>\u001b[0m         cancellation_manager\u001b[39m=\u001b[39mcancellation_manager)\n",
      "File \u001b[1;32m~\\AppData\\Local\\Programs\\Python\\Python38\\lib\\site-packages\\tensorflow\\python\\eager\\execute.py:54\u001b[0m, in \u001b[0;36mquick_execute\u001b[1;34m(op_name, num_outputs, inputs, attrs, ctx, name)\u001b[0m\n\u001b[0;32m     <a href='file:///c%3A/Users/sang9/AppData/Local/Programs/Python/Python38/lib/site-packages/tensorflow/python/eager/execute.py?line=51'>52</a>\u001b[0m \u001b[39mtry\u001b[39;00m:\n\u001b[0;32m     <a href='file:///c%3A/Users/sang9/AppData/Local/Programs/Python/Python38/lib/site-packages/tensorflow/python/eager/execute.py?line=52'>53</a>\u001b[0m   ctx\u001b[39m.\u001b[39mensure_initialized()\n\u001b[1;32m---> <a href='file:///c%3A/Users/sang9/AppData/Local/Programs/Python/Python38/lib/site-packages/tensorflow/python/eager/execute.py?line=53'>54</a>\u001b[0m   tensors \u001b[39m=\u001b[39m pywrap_tfe\u001b[39m.\u001b[39;49mTFE_Py_Execute(ctx\u001b[39m.\u001b[39;49m_handle, device_name, op_name,\n\u001b[0;32m     <a href='file:///c%3A/Users/sang9/AppData/Local/Programs/Python/Python38/lib/site-packages/tensorflow/python/eager/execute.py?line=54'>55</a>\u001b[0m                                       inputs, attrs, num_outputs)\n\u001b[0;32m     <a href='file:///c%3A/Users/sang9/AppData/Local/Programs/Python/Python38/lib/site-packages/tensorflow/python/eager/execute.py?line=55'>56</a>\u001b[0m \u001b[39mexcept\u001b[39;00m core\u001b[39m.\u001b[39m_NotOkStatusException \u001b[39mas\u001b[39;00m e:\n\u001b[0;32m     <a href='file:///c%3A/Users/sang9/AppData/Local/Programs/Python/Python38/lib/site-packages/tensorflow/python/eager/execute.py?line=56'>57</a>\u001b[0m   \u001b[39mif\u001b[39;00m name \u001b[39mis\u001b[39;00m \u001b[39mnot\u001b[39;00m \u001b[39mNone\u001b[39;00m:\n",
      "\u001b[1;31mKeyboardInterrupt\u001b[0m: "
     ]
    }
   ],
   "source": [
    "from tensorflow.keras.callbacks import ModelCheckpoint, ReduceLROnPlateau\n",
    "\n",
    "history = model.fit(\n",
    "    x_train,\n",
    "    y_train,\n",
    "    validation_data=(x_val, y_val),\n",
    "    batch_size = 256,\n",
    "    epochs=200,\n",
    "    callbacks=[\n",
    "        ModelCheckpoint('models/modelV3.2_GRU_lying.h5', monitor='val_acc', verbose=1, save_best_only=True, mode='auto'),\n",
    "        ReduceLROnPlateau(monitor='val_acc', factor=0.5, patience=50, verbose=1, mode='auto')\n",
    "    ]\n",
    ")"
   ]
  },
  {
   "cell_type": "code",
   "execution_count": 18,
   "metadata": {},
   "outputs": [
    {
     "data": {
      "image/png": "[encoded data removed]",
      "text/plain": [
       "<Figure size 1152x720 with 2 Axes>"
      ]
     },
     "metadata": {
      "needs_background": "light"
     },
     "output_type": "display_data"
    }
   ],
   "source": [
    "import matplotlib.pyplot as plt\n",
    "\n",
    "fig, loss_ax = plt.subplots(figsize=(16, 10))\n",
    "acc_ax = loss_ax.twinx()\n",
    "\n",
    "loss_ax.plot(history.history['loss'], 'y', label='train loss')\n",
    "loss_ax.plot(history.history['val_loss'], 'r', label='val loss')\n",
    "loss_ax.set_xlabel('epoch')\n",
    "loss_ax.set_ylabel('loss')\n",
    "loss_ax.legend(loc='upper left')\n",
    "\n",
    "acc_ax.plot(history.history['acc'], 'b', label='train acc')\n",
    "acc_ax.plot(history.history['val_acc'], 'g', label='val acc')\n",
    "acc_ax.set_ylabel('accuracy')\n",
    "acc_ax.legend(loc='upper right')\n",
    "\n",
    "plt.show()"
   ]
  },
  {
   "cell_type": "code",
   "execution_count": 9,
   "metadata": {},
   "outputs": [
    {
     "data": {
      "text/plain": [
       "array([[[ 366,    0],\n",
       "        [   0, 1354]],\n",
       "\n",
       "       [[1354,    0],\n",
       "        [   0,  366]]], dtype=int64)"
      ]
     },
     "execution_count": 9,
     "metadata": {},
     "output_type": "execute_result"
    }
   ],
   "source": [
    "from sklearn.metrics import multilabel_confusion_matrix\n",
    "from tensorflow.keras.models import load_model\n",
    "\n",
    "model = load_model('models/modelV3.2_GRU_lying.h5')\n",
    "\n",
    "y_pred = model.predict(x_val)\n",
    "\n",
    "multilabel_confusion_matrix(np.argmax(y_val, axis=1), np.argmax(y_pred, axis=1))"
   ]
  },
  {
   "cell_type": "code",
   "execution_count": 8,
   "metadata": {},
   "outputs": [
    {
     "ename": "NameError",
     "evalue": "name 'history' is not defined",
     "output_type": "error",
     "traceback": [
      "\u001b[1;31m---------------------------------------------------------------------------\u001b[0m",
      "\u001b[1;31mNameError\u001b[0m                                 Traceback (most recent call last)",
      "\u001b[1;32mc:\\Users\\sang9\\deepLearning\\pose\\gesture-recognition\\abnormalDetection\\train copy.ipynb Cell 11'\u001b[0m in \u001b[0;36m<cell line: 1>\u001b[1;34m()\u001b[0m\n\u001b[1;32m----> <a href='vscode-notebook-cell:/c%3A/Users/sang9/deepLearning/pose/gesture-recognition/abnormalDetection/train%20copy.ipynb#ch0000010?line=0'>1</a>\u001b[0m history\u001b[39m.\u001b[39mmodel\u001b[39m.\u001b[39msave(\u001b[39m'\u001b[39m\u001b[39mmodels/modelV3.3_GRU_lying.h5\u001b[39m\u001b[39m'\u001b[39m)\n",
      "\u001b[1;31mNameError\u001b[0m: name 'history' is not defined"
     ]
    }
   ],
   "source": [
    "\n",
    "history.model.save('models/modelV3.3_GRU_lying.h5')\n"
   ]
  },
  {
   "cell_type": "code",
   "execution_count": null,
   "metadata": {},
   "outputs": [],
   "source": []
  }
 ],
 "metadata": {
  "kernelspec": {
   "display_name": "Python 3",
   "language": "python",
   "name": "python3"
  },
  "language_info": {
   "codemirror_mode": {
    "name": "ipython",
    "version": 3
   },
   "file_extension": ".py",
   "mimetype": "text/x-python",
   "name": "python",
   "nbconvert_exporter": "python",
   "pygments_lexer": "ipython3",
   "version": "3.8.10"
  }
 },
 "nbformat": 4,
 "nbformat_minor": 4
}
